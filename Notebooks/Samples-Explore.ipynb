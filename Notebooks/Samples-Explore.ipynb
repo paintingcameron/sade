{
  "cells": [
    {
      "cell_type": "code",
      "execution_count": 2,
      "metadata": {
        "gather": {
          "logged": 1698651026486
        }
      },
      "outputs": [
        {
          "name": "stdout",
          "output_type": "stream",
          "text": [
            "The autoreload extension is already loaded. To reload it, use:\n",
            "  %reload_ext autoreload\n"
          ]
        }
      ],
      "source": [
        "%load_ext autoreload\n",
        "%autoreload 2\n",
        "\n",
        "import sys\n",
        "\n",
        "import matplotlib.pyplot as plt\n",
        "\n",
        "import torch\n",
        "from torch.utils.data import DataLoader\n",
        "from torchvision import transforms as T\n",
        "\n",
        "sys.path.append(\"../\")\n",
        "from SADE.assets.dataset import LMDBImageDataset\n",
        "from SADE.assets.utils import create_image_grid, tensor_to_pil"
      ]
    },
    {
      "cell_type": "code",
      "execution_count": 12,
      "metadata": {
        "gather": {
          "logged": 1698651026651
        }
      },
      "outputs": [],
      "source": [
        "# Path to LMDB directory with images\n",
        "samples_path = \"../experiments/<examples-lmdb>/\""
      ]
    },
    {
      "cell_type": "code",
      "execution_count": 13,
      "metadata": {},
      "outputs": [],
      "source": [
        "image_size = (64, 64)\n",
        "label_length = 0"
      ]
    },
    {
      "cell_type": "code",
      "execution_count": 14,
      "metadata": {
        "gather": {
          "logged": 1698651026913
        }
      },
      "outputs": [],
      "source": [
        "dataset = LMDBImageDataset(samples_path, label_length=label_length)"
      ]
    },
    {
      "cell_type": "code",
      "execution_count": null,
      "metadata": {},
      "outputs": [],
      "source": [
        "len(dataset)"
      ]
    },
    {
      "cell_type": "code",
      "execution_count": 16,
      "metadata": {},
      "outputs": [],
      "source": [
        "def collate_fn(examples):\n",
        "    image_data = torch.stack([x[0] for x in examples])\n",
        "    labels = [x[1] for x in examples]\n",
        "    return {\"image_data\": image_data, \"labels\": labels}"
      ]
    },
    {
      "cell_type": "code",
      "execution_count": 23,
      "metadata": {},
      "outputs": [],
      "source": [
        "batch_size = 256\n",
        "image_transforms = T.Compose(\n",
        "    [\n",
        "        T.Resize(image_size),\n",
        "        T.Grayscale(),\n",
        "        T.ToTensor(),\n",
        "        T.Normalize([0.5], [0.5])\n",
        "    ]\n",
        ")\n",
        "dataset = LMDBImageDataset(\n",
        "    samples_path,\n",
        "    transform=image_transforms,\n",
        "    label_length=label_length,\n",
        ")\n",
        "dataloader = DataLoader(\n",
        "    dataset=dataset,\n",
        "    batch_size=batch_size,\n",
        "    shuffle=True,\n",
        "    collate_fn=collate_fn,\n",
        ")\n"
      ]
    },
    {
      "cell_type": "code",
      "execution_count": 24,
      "metadata": {},
      "outputs": [],
      "source": [
        "def bmw_case(sequence):\n",
        "    return \"\".join([c.lower() if c in ['I', 'D', 'E'] else c for c in sequence])"
      ]
    },
    {
      "cell_type": "code",
      "execution_count": null,
      "metadata": {},
      "outputs": [],
      "source": [
        "num_columns = 3\n",
        "num_rows = 2\n",
        "\n",
        "\n",
        "it = iter(dataloader)\n",
        "\n",
        "try:\n",
        "    for _ in range(10):   \n",
        "        gen_samples, part_labels = next(it).values()\n",
        "        gen_samples = [tensor_to_pil(sample, mode='L') for sample in gen_samples]\n",
        "\n",
        "        print(len(gen_samples))\n",
        "        print(len(part_labels))\n",
        "\n",
        "        bs = num_columns * num_rows\n",
        "        for i in range(len(gen_samples)//bs):\n",
        "            l = part_labels[i*bs:(i*bs+bs)]\n",
        "            grid = create_image_grid(gen_samples[i*bs:(i*bs+bs)], num_columns=num_columns, num_rows=num_rows, labels=l)\n",
        "            plt.imshow(grid)\n",
        "            plt.axis('off')\n",
        "            plt.show()\n",
        "except StopIteration:\n",
        "    print(\"Stopped\")\n",
        "    pass"
      ]
    }
  ],
  "metadata": {
    "kernel_info": {
      "name": "diffusion-kernel"
    },
    "kernelspec": {
      "display_name": "diffusion-env",
      "language": "python",
      "name": "python3"
    },
    "language_info": {
      "codemirror_mode": {
        "name": "ipython",
        "version": 3
      },
      "file_extension": ".py",
      "mimetype": "text/x-python",
      "name": "python",
      "nbconvert_exporter": "python",
      "pygments_lexer": "ipython3",
      "version": "3.12.3"
    },
    "microsoft": {
      "host": {
        "AzureML": {
          "notebookHasBeenCompleted": true
        }
      },
      "ms_spell_check": {
        "ms_spell_check_language": "en"
      }
    },
    "nteract": {
      "version": "nteract-front-end@1.0.0"
    },
    "orig_nbformat": 4
  },
  "nbformat": 4,
  "nbformat_minor": 2
}
